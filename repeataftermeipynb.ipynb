{
  "nbformat": 4,
  "nbformat_minor": 0,
  "metadata": {
    "colab": {
      "provenance": [],
      "authorship_tag": "ABX9TyPtMrme2FQY7Y5zEQnDUvT/",
      "include_colab_link": true
    },
    "kernelspec": {
      "name": "python3",
      "display_name": "Python 3"
    },
    "language_info": {
      "name": "python"
    }
  },
  "cells": [
    {
      "cell_type": "markdown",
      "metadata": {
        "id": "view-in-github",
        "colab_type": "text"
      },
      "source": [
        "<a href=\"https://colab.research.google.com/github/raunakyadav92/repeataftermechallenge/blob/main/repeataftermeipynb.ipynb\" target=\"_parent\"><img src=\"https://colab.research.google.com/assets/colab-badge.svg\" alt=\"Open In Colab\"/></a>"
      ]
    },
    {
      "cell_type": "code",
      "execution_count": null,
      "metadata": {
        "id": "SHRQVCXWDtxC"
      },
      "outputs": [],
      "source": [
        "import pyttsx3\n",
        "import speech_recognition as sr\n",
        "\n",
        "def speak(text):\n",
        "    engine = pyttsx3.init()\n",
        "    engine.say(text)\n",
        "    engine.runAndWait()\n",
        "\n",
        "def listen():\n",
        "    r = sr.Recognizer()\n",
        "    with sr.Microphone() as source:\n",
        "        print(\"🎤 Speak Now...\")\n",
        "        audio = r.listen(source)\n",
        "        try:\n",
        "            text = r.recognize_google(audio)\n",
        "            print(f\"You said: {text}\")\n",
        "            return text.lower()\n",
        "        except:\n",
        "            print(\"❌ Could not understand.\")\n",
        "            return \"\"\n",
        "\n",
        "phrases = [\"Hello world\", \"Python is awesome\", \"I love coding\"]\n",
        "\n",
        "speak(\"Welcome to Repeat After Me Challenge!\")\n",
        "\n",
        "for phrase in phrases:\n",
        "    speak(f\"Repeat after me: {phrase}\")\n",
        "    user_response = listen()\n",
        "    if user_response == phrase.lower():\n",
        "        speak(\"✅ Correct!\")\n",
        "    else:\n",
        "        speak(\"❌ Oops! Try again next time.\")\n",
        "\n",
        "speak(\"Game Over! Thanks for playing.\")\n"
      ]
    }
  ]
}